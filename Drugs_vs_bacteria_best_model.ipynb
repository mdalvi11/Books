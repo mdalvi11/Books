{
  "cells": [
    {
      "cell_type": "markdown",
      "metadata": {
        "id": "view-in-github",
        "colab_type": "text"
      },
      "source": [
        "<a href=\"https://colab.research.google.com/github/mdalvi11/Books/blob/master/Drugs_vs_bacteria_best_model.ipynb\" target=\"_parent\"><img src=\"https://colab.research.google.com/assets/colab-badge.svg\" alt=\"Open In Colab\"/></a>"
      ]
    },
    {
      "cell_type": "code",
      "execution_count": 7,
      "metadata": {
        "id": "q5KZiQ6db8PN"
      },
      "outputs": [],
      "source": [
        "#load required packages\n",
        "import sklearn   \n",
        "import pandas as pd\n",
        "import numpy as np\n",
        "from sklearn.preprocessing import StandardScaler  \n",
        "from sklearn.model_selection import train_test_split   \n",
        "from sklearn.model_selection import KFold  \n",
        "from sklearn.ensemble import ExtraTreesClassifier \n",
        "from sklearn.model_selection import cross_validate \n",
        "from sklearn.metrics import roc_auc_score  \n",
        "from sklearn.model_selection import ShuffleSplit \n",
        "from numpy import mean\n",
        "from numpy import std "
      ]
    },
    {
      "cell_type": "code",
      "execution_count": 9,
      "metadata": {
        "colab": {
          "base_uri": "https://localhost:8080/",
          "height": 130
        },
        "id": "MhQ33IB5b8Pk",
        "outputId": "bd62f6f8-d5b4-4be5-a0ab-854992606a7d"
      },
      "outputs": [
        {
          "output_type": "error",
          "ename": "SyntaxError",
          "evalue": "ignored",
          "traceback": [
            "\u001b[0;36m  File \u001b[0;32m\"<ipython-input-9-950455fe2e10>\"\u001b[0;36m, line \u001b[0;32m2\u001b[0m\n\u001b[0;31m    df1 = pd.read_excel(df = pd.read_excel (r \"C:\\Users\\MD ALVI\\Desktop\\ml project\\dataset1.xlsx\")\u001b[0m\n\u001b[0m                                                                                                ^\u001b[0m\n\u001b[0;31mSyntaxError\u001b[0m\u001b[0;31m:\u001b[0m invalid syntax\n"
          ]
        }
      ],
      "source": [
        "#Load dataset  \n",
        "df1 = pd.read_excel(df = pd.read_excel (r \"C:\\Users\\MD ALVI\\Desktop\\ml project\\dataset1.xlsx\")\n",
        "print (df1)) #Excel load dataset file"
      ]
    },
    {
      "cell_type": "code",
      "execution_count": 5,
      "metadata": {
        "colab": {
          "base_uri": "https://localhost:8080/",
          "height": 217
        },
        "id": "j0Sutsblb8Pm",
        "outputId": "e8400ce3-d34b-4355-8f71-9a6d35127594"
      },
      "outputs": [
        {
          "output_type": "error",
          "ename": "AttributeError",
          "evalue": "ignored",
          "traceback": [
            "\u001b[0;31m---------------------------------------------------------------------------\u001b[0m",
            "\u001b[0;31mAttributeError\u001b[0m                            Traceback (most recent call last)",
            "\u001b[0;32m<ipython-input-5-4affc6bd6dc3>\u001b[0m in \u001b[0;36m<module>\u001b[0;34m()\u001b[0m\n\u001b[1;32m      1\u001b[0m \u001b[0;31m#Clean dataset\u001b[0m\u001b[0;34m\u001b[0m\u001b[0;34m\u001b[0m\u001b[0;34m\u001b[0m\u001b[0m\n\u001b[0;32m----> 2\u001b[0;31m \u001b[0mdf\u001b[0m \u001b[0;34m=\u001b[0m \u001b[0mdf1\u001b[0m\u001b[0;34m.\u001b[0m\u001b[0mdropna\u001b[0m\u001b[0;34m(\u001b[0m\u001b[0;34m)\u001b[0m\u001b[0;34m\u001b[0m\u001b[0;34m\u001b[0m\u001b[0m\n\u001b[0m\u001b[1;32m      3\u001b[0m \u001b[0mdf\u001b[0m \u001b[0;34m=\u001b[0m \u001b[0mdf\u001b[0m\u001b[0;34m.\u001b[0m\u001b[0mdrop\u001b[0m\u001b[0;34m(\u001b[0m\u001b[0;34m[\u001b[0m\u001b[0;34m'SMILES'\u001b[0m\u001b[0;34m]\u001b[0m\u001b[0;34m,\u001b[0m \u001b[0maxis\u001b[0m\u001b[0;34m=\u001b[0m\u001b[0;36m1\u001b[0m\u001b[0;34m)\u001b[0m\u001b[0;34m\u001b[0m\u001b[0;34m\u001b[0m\u001b[0m\n\u001b[1;32m      4\u001b[0m \u001b[0mdf\u001b[0m \u001b[0;34m=\u001b[0m \u001b[0mdf\u001b[0m\u001b[0;34m.\u001b[0m\u001b[0mset_index\u001b[0m\u001b[0;34m(\u001b[0m\u001b[0;34m'Drug'\u001b[0m\u001b[0;34m)\u001b[0m\u001b[0;34m\u001b[0m\u001b[0;34m\u001b[0m\u001b[0m\n",
            "\u001b[0;31mAttributeError\u001b[0m: 'function' object has no attribute 'dropna'"
          ]
        }
      ],
      "source": [
        "#Clean dataset\n",
        "df = df1.dropna()  \n",
        "df = df.drop(['SMILES'], axis=1) \n",
        "df = df.set_index('Drug')  "
      ]
    },
    {
      "cell_type": "code",
      "execution_count": null,
      "metadata": {
        "id": "iuqDeW8Qb8Po"
      },
      "outputs": [],
      "source": [
        "#Set features \n",
        "features = df.loc[:, 'ABC':'mZagreb2']   \n",
        "X = np.array(features)  \n",
        "#Feature scaling \n",
        "scaler = StandardScaler()\n",
        "scaler.fit(X)\n",
        "X = scaler.transform(X)\n",
        "#Save scaled training features into a dataframe  \n",
        "names = list(features.columns.values) "
      ]
    },
    {
      "cell_type": "code",
      "execution_count": null,
      "metadata": {
        "id": "w1xKSg1Eb8Pq"
      },
      "outputs": [],
      "source": [
        "#Set labels \n",
        "labels = df.loc[:, 'Akkermansia muciniphila (NT5021)':'Veillonella parvula (NT5017)']    \n",
        "y = np.array(labels) \n",
        "#Convert y p-values to True (affected) or False (not affected): these will be the categories\n",
        "y = y < 0.05 "
      ]
    },
    {
      "cell_type": "code",
      "execution_count": null,
      "metadata": {
        "id": "Un53o7FTb8Ps",
        "outputId": "67a08d3b-b9c3-4efe-c3b2-48ea4eb0dc82"
      },
      "outputs": [
        {
          "name": "stdout",
          "output_type": "stream",
          "text": [
            "0.857 AUROC with a standard deviation of 0.014\n",
            "0.587 recall_weighted with a standard deviation of 0.063\n",
            "0.800 precision_weighted with a standard deviation of 0.053\n",
            "0.666 f1_weighted with a standard deviation of 0.042\n"
          ]
        }
      ],
      "source": [
        "#Extra trees model\n",
        "#Build cross-validation procedure (10 folds)\n",
        "cv = ShuffleSplit(n_splits=10, test_size=0.2, random_state=0) \n",
        "#Build model\n",
        "clf = ExtraTreesClassifier(random_state=0, n_estimators= 1000, min_samples_split= 5, min_samples_leaf= 1, max_features= 'auto', \n",
        "                           max_depth= 60, bootstrap= False)  \n",
        "#Outline scoring methods \n",
        "scoring = ['roc_auc', 'recall_weighted', 'precision_weighted', 'f1_weighted']\n",
        "#Fit and evaluate performance\n",
        "scores = cross_validate(clf, X, y, cv=cv, scoring=scoring)  \n",
        "score1 = scores['test_roc_auc'] \n",
        "print(\"%0.3f AUROC with a standard deviation of %0.3f\" % (score1.mean(), score1.std())) \n",
        "score2 = scores['test_recall_weighted']  \n",
        "print(\"%0.3f recall_weighted with a standard deviation of %0.3f\" % (score2.mean(), score2.std()))  \n",
        "score3 = scores['test_precision_weighted']   \n",
        "print(\"%0.3f precision_weighted with a standard deviation of %0.3f\" % (score3.mean(), score3.std()))  \n",
        "score4 = scores['test_f1_weighted'] \n",
        "print(\"%0.3f f1_weighted with a standard deviation of %0.3f\" % (score4.mean(), score4.std())) "
      ]
    },
    {
      "cell_type": "code",
      "execution_count": null,
      "metadata": {
        "id": "xnmMeTe3b8Pz"
      },
      "outputs": [],
      "source": [
        "#Get predictions for unseen compounds\n",
        "# Load new data (1613 Mordred chemical features for unseen compound)\n",
        "model.predict([#chemical features for unseen compound]) \n",
        "# Output will be an array of 40 'True' and/or 'False' predictions for each of the 40 gut bacterial strains: \n",
        "\n",
        "# Order of predictive outputs for each bacterium:\n",
        "#Akkermansia muciniphila (NT5021), Bacteroides caccae (NT5050), Bacteroides fragilis (ET) (NT5033), \n",
        "#Bacteroides fragilis (NT) (NT5003), Bacteroides ovatus (NT5054), Bacteroides thetaiotaomicron (NT5004), \n",
        "#Bacteroides uniformis (NT5002), Bacteroides vulgatus (NT5001), Bacteroides xylanisolvens (NT5064), \n",
        "#Bifidobacterium adolescentis (NT5022), Bifidobacterium longum (NT5028), Bilophila wadsworthia (NT5036), \n",
        "#Blautia obeum (NT5069), Clostridium bolteae (NT5026), Clostridium difficile (NT5083), Clostridium perfringens (NT5032), \n",
        "#Clostridium ramosum (NT5006), Clostridium saccharolyticum (NT5037), Collinsella aerofaciens (NT5073), \n",
        "#Coprococcus comes (NT5048), Dorea formicigenerans (NT5076), Eggerthella lenta (NT5024), Escherichia coli ED1a (NT5078), \n",
        "#Escherichia coli IAI1 (NT5077), Eubacterium eligens (NT5075), Eubacterium rectale (NT5009), Fusobacterium nucleatum (NT5025), \n",
        "#Lactobacillus paracasei (NT5042), Odoribacter splanchnicus (NT5081), Parabacteroides distasonis (NT5074), \n",
        "#Parabacteroides merdae (NT5071), Prevotella copri (NT5019), Roseburia hominis (NT5079), Roseburia intestinalis (NT5011), \n",
        "#Ruminococcus bromii (NT5045), Ruminococcus gnavus (NT5046), Ruminococcus torques (NT5047), \n",
        "#Streptococcus parasanguinis (NT5072), Streptococcus salivarius (NT5038), Veillonella parvula (NT5017)"
      ]
    },
    {
      "cell_type": "code",
      "execution_count": null,
      "metadata": {
        "id": "6QSjug3Jb8P4"
      },
      "outputs": [],
      "source": [
        ""
      ]
    }
  ],
  "metadata": {
    "kernelspec": {
      "display_name": "Python 3",
      "language": "python",
      "name": "python3"
    },
    "language_info": {
      "codemirror_mode": {
        "name": "ipython",
        "version": 3
      },
      "file_extension": ".py",
      "mimetype": "text/x-python",
      "name": "python",
      "nbconvert_exporter": "python",
      "pygments_lexer": "ipython3",
      "version": "3.7.6"
    },
    "colab": {
      "name": "Drugs vs bacteria best model.ipynb",
      "provenance": [],
      "include_colab_link": true
    }
  },
  "nbformat": 4,
  "nbformat_minor": 0
}